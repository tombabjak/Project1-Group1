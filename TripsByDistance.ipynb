{
 "cells": [
  {
   "cell_type": "markdown",
   "id": "polyphonic-result",
   "metadata": {},
   "source": [
    "### Import dependencies and load the data file"
   ]
  },
  {
   "cell_type": "code",
   "execution_count": null,
   "id": "infinite-intention",
   "metadata": {},
   "outputs": [],
   "source": [
    "import pandas as pd\n",
    "import matplotlib.pyplot as plt\n",
    "import numpy as np\n",
    "import datetime as dt\n",
    "import scipy.stats as st\n"
   ]
  },
  {
   "cell_type": "code",
   "execution_count": null,
   "id": "packed-movie",
   "metadata": {},
   "outputs": [],
   "source": [
    "trips_file = \"Trips_by_Distance4.csv\"\n",
    "trips_df = pd.read_csv(trips_file).dropna(how='any')\n",
    "trips_df"
   ]
  },
  {
   "cell_type": "markdown",
   "id": "hawaiian-raise",
   "metadata": {},
   "source": [
    "### Data cleanup"
   ]
  },
  {
   "cell_type": "markdown",
   "id": "constitutional-external",
   "metadata": {},
   "source": [
    "#### Convert strings to integers so that column values and be calcuated"
   ]
  },
  {
   "cell_type": "code",
   "execution_count": null,
   "id": "northern-management",
   "metadata": {},
   "outputs": [],
   "source": [
    "#trips_df.columns\n",
    "\n",
    "colstoclean = ['2019',\n",
    "       '2020']\n",
    "for col in colstoclean:\n",
    "    print(col)\n",
    "    trips_df[col] = trips_df[col].str.replace(\",\",\"\").astype(int)"
   ]
  },
  {
   "cell_type": "code",
   "execution_count": null,
   "id": "mounted-homeless",
   "metadata": {},
   "outputs": [],
   "source": [
    "# Confirm all numerics are now integers\n",
    "trips_df.head()"
   ]
  },
  {
   "cell_type": "markdown",
   "id": "further-print",
   "metadata": {},
   "source": [
    "## Charts and Graphs"
   ]
  },
  {
   "cell_type": "code",
   "execution_count": null,
   "id": "personal-university",
   "metadata": {},
   "outputs": [],
   "source": [
    "\n",
    "#trips_df['2020'] = pd.to_numeric(trips_df['2020'])"
   ]
  },
  {
   "cell_type": "code",
   "execution_count": null,
   "id": "golden-right",
   "metadata": {},
   "outputs": [],
   "source": [
    "trips_df['2019'] = pd.to_numeric(trips_df['2019'])\n",
    "trips_df['2020'] = pd.to_numeric(trips_df['2020'])\n",
    "trips_df['2021'] = pd.to_numeric(trips_df['2021'])"
   ]
  },
  {
   "cell_type": "code",
   "execution_count": null,
   "id": "comparable-serial",
   "metadata": {},
   "outputs": [],
   "source": [
    "ax = trips_df.plot.scatter(x='County Name',y='2020',label='Holidays 2020',color='mediumblue')\n",
    "trips_df.plot.scatter(x='County Name',y='2021', label='Holidays 2021',color='red',rot=45,ax=ax)\n",
    "\n",
    "plt.xticks(np.arange(0,len(trips_df['County Name'])),rotation=45)\n",
    "plt.ylabel(\"(in Millions)\")\n",
    "plt.xlabel(\"NJ Counties\")\n",
    "plt.title(\"Changes in Mobility - Staying at Home\")\n",
    "plt.savefig(\"../screenshots/NJHolidayTravel_scatter.png\")"
   ]
  },
  {
   "cell_type": "code",
   "execution_count": null,
   "id": "progressive-kentucky",
   "metadata": {},
   "outputs": [],
   "source": [
    "ax2 = trips_df.plot(kind='line',x='County Name',y='2020',label='2020')\n",
    "trips_df.plot(kind='line',x='County Name',y='2021',label='2021', color='red',ax=ax2)\n",
    "\n",
    "plt.xticks(np.arange(0,len(trips_df['County Name']),),rotation=45)\n",
    "plt.ylabel(\"(in Millions)\")\n",
    "plt.xlabel(\"NJ Counties\")\n",
    "plt.title(\"Mobility Changes during the Nov-Dec Holiday travel period\")"
   ]
  },
  {
   "cell_type": "code",
   "execution_count": null,
   "id": "curious-exercise",
   "metadata": {},
   "outputs": [],
   "source": [
    "trips_df.plot(x='County Name', y='2019')"
   ]
  },
  {
   "cell_type": "code",
   "execution_count": null,
   "id": "similar-madrid",
   "metadata": {},
   "outputs": [],
   "source": [
    "trips_df.plot(x='County Name', y='2020')"
   ]
  },
  {
   "cell_type": "code",
   "execution_count": null,
   "id": "vanilla-soundtrack",
   "metadata": {},
   "outputs": [],
   "source": []
  }
 ],
 "metadata": {
  "kernelspec": {
   "display_name": "Python 3",
   "language": "python",
   "name": "python3"
  },
  "language_info": {
   "codemirror_mode": {
    "name": "ipython",
    "version": 3
   },
   "file_extension": ".py",
   "mimetype": "text/x-python",
   "name": "python",
   "nbconvert_exporter": "python",
   "pygments_lexer": "ipython3",
   "version": "3.8.5"
  }
 },
 "nbformat": 4,
 "nbformat_minor": 5
}
