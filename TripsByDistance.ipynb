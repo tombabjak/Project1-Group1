{
 "cells": [
  {
   "cell_type": "markdown",
   "id": "polyphonic-result",
   "metadata": {},
   "source": [
    "### Import dependencies and load the data file"
   ]
  },
  {
   "cell_type": "code",
   "execution_count": 1,
   "id": "infinite-intention",
   "metadata": {},
   "outputs": [],
   "source": [
    "import pandas as pd\n",
    "import matplotlib.pyplot as plt\n",
    "import numpy as np\n",
    "import datetime as dt\n",
    "import scipy.stats as st\n"
   ]
  },
  {
   "cell_type": "code",
   "execution_count": 2,
   "id": "packed-movie",
   "metadata": {},
   "outputs": [
    {
     "data": {
      "text/html": [
       "<div>\n",
       "<style scoped>\n",
       "    .dataframe tbody tr th:only-of-type {\n",
       "        vertical-align: middle;\n",
       "    }\n",
       "\n",
       "    .dataframe tbody tr th {\n",
       "        vertical-align: top;\n",
       "    }\n",
       "\n",
       "    .dataframe thead th {\n",
       "        text-align: right;\n",
       "    }\n",
       "</style>\n",
       "<table border=\"1\" class=\"dataframe\">\n",
       "  <thead>\n",
       "    <tr style=\"text-align: right;\">\n",
       "      <th></th>\n",
       "      <th>County Name</th>\n",
       "      <th>2019</th>\n",
       "      <th>2020</th>\n",
       "      <th>2021</th>\n",
       "    </tr>\n",
       "  </thead>\n",
       "  <tbody>\n",
       "    <tr>\n",
       "      <th>0</th>\n",
       "      <td>Atlantic</td>\n",
       "      <td>2,636,501</td>\n",
       "      <td>2,812,601</td>\n",
       "      <td>369599</td>\n",
       "    </tr>\n",
       "    <tr>\n",
       "      <th>1</th>\n",
       "      <td>Bergen</td>\n",
       "      <td>9,584,850</td>\n",
       "      <td>9,511,333</td>\n",
       "      <td>1226050</td>\n",
       "    </tr>\n",
       "    <tr>\n",
       "      <th>2</th>\n",
       "      <td>Burlington</td>\n",
       "      <td>4,620,085</td>\n",
       "      <td>4,688,496</td>\n",
       "      <td>608068</td>\n",
       "    </tr>\n",
       "    <tr>\n",
       "      <th>3</th>\n",
       "      <td>Camden</td>\n",
       "      <td>5,052,202</td>\n",
       "      <td>5,171,437</td>\n",
       "      <td>671189</td>\n",
       "    </tr>\n",
       "    <tr>\n",
       "      <th>4</th>\n",
       "      <td>Cape</td>\n",
       "      <td>887,893</td>\n",
       "      <td>934,542</td>\n",
       "      <td>120929</td>\n",
       "    </tr>\n",
       "    <tr>\n",
       "      <th>5</th>\n",
       "      <td>Cumberland</td>\n",
       "      <td>1,535,809</td>\n",
       "      <td>1,656,905</td>\n",
       "      <td>217614</td>\n",
       "    </tr>\n",
       "    <tr>\n",
       "      <th>6</th>\n",
       "      <td>Essex</td>\n",
       "      <td>7,735,418</td>\n",
       "      <td>7,998,381</td>\n",
       "      <td>1047233</td>\n",
       "    </tr>\n",
       "    <tr>\n",
       "      <th>7</th>\n",
       "      <td>Gloucester</td>\n",
       "      <td>3,026,146</td>\n",
       "      <td>3,126,291</td>\n",
       "      <td>403143</td>\n",
       "    </tr>\n",
       "    <tr>\n",
       "      <th>8</th>\n",
       "      <td>Hudson</td>\n",
       "      <td>6,213,346</td>\n",
       "      <td>6,200,327</td>\n",
       "      <td>794389</td>\n",
       "    </tr>\n",
       "    <tr>\n",
       "      <th>9</th>\n",
       "      <td>Hunterdon</td>\n",
       "      <td>1,354,015</td>\n",
       "      <td>1,383,523</td>\n",
       "      <td>176547</td>\n",
       "    </tr>\n",
       "    <tr>\n",
       "      <th>10</th>\n",
       "      <td>Mercer</td>\n",
       "      <td>3,737,405</td>\n",
       "      <td>3,805,488</td>\n",
       "      <td>491401</td>\n",
       "    </tr>\n",
       "    <tr>\n",
       "      <th>11</th>\n",
       "      <td>Middlesex</td>\n",
       "      <td>8,582,638</td>\n",
       "      <td>8,669,918</td>\n",
       "      <td>1109431</td>\n",
       "    </tr>\n",
       "    <tr>\n",
       "      <th>12</th>\n",
       "      <td>Monmouth</td>\n",
       "      <td>6,483,153</td>\n",
       "      <td>6,601,906</td>\n",
       "      <td>847135</td>\n",
       "    </tr>\n",
       "    <tr>\n",
       "      <th>13</th>\n",
       "      <td>Morris</td>\n",
       "      <td>5,185,263</td>\n",
       "      <td>5,154,029</td>\n",
       "      <td>655445</td>\n",
       "    </tr>\n",
       "    <tr>\n",
       "      <th>14</th>\n",
       "      <td>Ocean</td>\n",
       "      <td>6,269,632</td>\n",
       "      <td>6,427,712</td>\n",
       "      <td>815387</td>\n",
       "    </tr>\n",
       "    <tr>\n",
       "      <th>15</th>\n",
       "      <td>Passaic</td>\n",
       "      <td>5,096,736</td>\n",
       "      <td>5,256,220</td>\n",
       "      <td>693178</td>\n",
       "    </tr>\n",
       "    <tr>\n",
       "      <th>16</th>\n",
       "      <td>Salem</td>\n",
       "      <td>638,640</td>\n",
       "      <td>685,812</td>\n",
       "      <td>90231</td>\n",
       "    </tr>\n",
       "    <tr>\n",
       "      <th>17</th>\n",
       "      <td>Somerset</td>\n",
       "      <td>3,514,261</td>\n",
       "      <td>3,511,058</td>\n",
       "      <td>447507</td>\n",
       "    </tr>\n",
       "    <tr>\n",
       "      <th>18</th>\n",
       "      <td>Sussex</td>\n",
       "      <td>1,499,220</td>\n",
       "      <td>1,529,474</td>\n",
       "      <td>195919</td>\n",
       "    </tr>\n",
       "    <tr>\n",
       "      <th>19</th>\n",
       "      <td>Union</td>\n",
       "      <td>5,652,508</td>\n",
       "      <td>5,685,325</td>\n",
       "      <td>731943</td>\n",
       "    </tr>\n",
       "    <tr>\n",
       "      <th>20</th>\n",
       "      <td>Warren</td>\n",
       "      <td>1,113,758</td>\n",
       "      <td>1,157,679</td>\n",
       "      <td>149860</td>\n",
       "    </tr>\n",
       "  </tbody>\n",
       "</table>\n",
       "</div>"
      ],
      "text/plain": [
       "   County Name       2019       2020     2021\n",
       "0    Atlantic   2,636,501  2,812,601   369599\n",
       "1       Bergen  9,584,850  9,511,333  1226050\n",
       "2   Burlington  4,620,085  4,688,496   608068\n",
       "3       Camden  5,052,202  5,171,437   671189\n",
       "4         Cape    887,893    934,542   120929\n",
       "5   Cumberland  1,535,809  1,656,905   217614\n",
       "6        Essex  7,735,418  7,998,381  1047233\n",
       "7   Gloucester  3,026,146  3,126,291   403143\n",
       "8       Hudson  6,213,346  6,200,327   794389\n",
       "9    Hunterdon  1,354,015  1,383,523   176547\n",
       "10      Mercer  3,737,405  3,805,488   491401\n",
       "11   Middlesex  8,582,638  8,669,918  1109431\n",
       "12    Monmouth  6,483,153  6,601,906   847135\n",
       "13      Morris  5,185,263  5,154,029   655445\n",
       "14       Ocean  6,269,632  6,427,712   815387\n",
       "15     Passaic  5,096,736  5,256,220   693178\n",
       "16       Salem    638,640    685,812    90231\n",
       "17    Somerset  3,514,261  3,511,058   447507\n",
       "18      Sussex  1,499,220  1,529,474   195919\n",
       "19       Union  5,652,508  5,685,325   731943\n",
       "20      Warren  1,113,758  1,157,679   149860"
      ]
     },
     "execution_count": 2,
     "metadata": {},
     "output_type": "execute_result"
    }
   ],
   "source": [
    "trips_file = \"Trips_by_Distance4.csv\"\n",
    "trips_df = pd.read_csv(trips_file).dropna(how='any')\n",
    "trips_df"
   ]
  },
  {
   "cell_type": "markdown",
   "id": "hawaiian-raise",
   "metadata": {},
   "source": [
    "### Data cleanup"
   ]
  },
  {
   "cell_type": "markdown",
   "id": "constitutional-external",
   "metadata": {},
   "source": [
    "#### Convert strings to integers so that column values and be calcuated"
   ]
  },
  {
   "cell_type": "code",
   "execution_count": 3,
   "id": "northern-management",
   "metadata": {},
   "outputs": [
    {
     "name": "stdout",
     "output_type": "stream",
     "text": [
      "2019\n",
      "2020\n"
     ]
    }
   ],
   "source": [
    "#trips_df.columns\n",
    "\n",
    "colstoclean = ['2019',\n",
    "       '2020']\n",
    "for col in colstoclean:\n",
    "    print(col)\n",
    "    trips_df[col] = trips_df[col].str.replace(\",\",\"\").astype(int)"
   ]
  },
  {
   "cell_type": "code",
   "execution_count": 4,
   "id": "mounted-homeless",
   "metadata": {},
   "outputs": [
    {
     "data": {
      "text/html": [
       "<div>\n",
       "<style scoped>\n",
       "    .dataframe tbody tr th:only-of-type {\n",
       "        vertical-align: middle;\n",
       "    }\n",
       "\n",
       "    .dataframe tbody tr th {\n",
       "        vertical-align: top;\n",
       "    }\n",
       "\n",
       "    .dataframe thead th {\n",
       "        text-align: right;\n",
       "    }\n",
       "</style>\n",
       "<table border=\"1\" class=\"dataframe\">\n",
       "  <thead>\n",
       "    <tr style=\"text-align: right;\">\n",
       "      <th></th>\n",
       "      <th>County Name</th>\n",
       "      <th>2019</th>\n",
       "      <th>2020</th>\n",
       "      <th>2021</th>\n",
       "    </tr>\n",
       "  </thead>\n",
       "  <tbody>\n",
       "    <tr>\n",
       "      <th>0</th>\n",
       "      <td>Atlantic</td>\n",
       "      <td>2636501</td>\n",
       "      <td>2812601</td>\n",
       "      <td>369599</td>\n",
       "    </tr>\n",
       "    <tr>\n",
       "      <th>1</th>\n",
       "      <td>Bergen</td>\n",
       "      <td>9584850</td>\n",
       "      <td>9511333</td>\n",
       "      <td>1226050</td>\n",
       "    </tr>\n",
       "    <tr>\n",
       "      <th>2</th>\n",
       "      <td>Burlington</td>\n",
       "      <td>4620085</td>\n",
       "      <td>4688496</td>\n",
       "      <td>608068</td>\n",
       "    </tr>\n",
       "    <tr>\n",
       "      <th>3</th>\n",
       "      <td>Camden</td>\n",
       "      <td>5052202</td>\n",
       "      <td>5171437</td>\n",
       "      <td>671189</td>\n",
       "    </tr>\n",
       "    <tr>\n",
       "      <th>4</th>\n",
       "      <td>Cape</td>\n",
       "      <td>887893</td>\n",
       "      <td>934542</td>\n",
       "      <td>120929</td>\n",
       "    </tr>\n",
       "  </tbody>\n",
       "</table>\n",
       "</div>"
      ],
      "text/plain": [
       "  County Name     2019     2020     2021\n",
       "0   Atlantic   2636501  2812601   369599\n",
       "1      Bergen  9584850  9511333  1226050\n",
       "2  Burlington  4620085  4688496   608068\n",
       "3      Camden  5052202  5171437   671189\n",
       "4        Cape   887893   934542   120929"
      ]
     },
     "execution_count": 4,
     "metadata": {},
     "output_type": "execute_result"
    }
   ],
   "source": [
    "# Confirm all numerics are now integers\n",
    "trips_df.head()"
   ]
  },
  {
   "cell_type": "markdown",
   "id": "further-print",
   "metadata": {},
   "source": [
    "## Charts and Graphs"
   ]
  },
  {
   "cell_type": "code",
   "execution_count": 5,
   "id": "personal-university",
   "metadata": {},
   "outputs": [],
   "source": [
    "\n",
    "#trips_df['2020'] = pd.to_numeric(trips_df['2020'])"
   ]
  },
  {
   "cell_type": "code",
   "execution_count": 6,
   "id": "golden-right",
   "metadata": {},
   "outputs": [],
   "source": [
    "trips_df['2019'] = pd.to_numeric(trips_df['2019'])\n",
    "trips_df['2020'] = pd.to_numeric(trips_df['2020'])\n",
    "trips_df['2021'] = pd.to_numeric(trips_df['2021'])"
   ]
  },
  {
   "cell_type": "code",
   "execution_count": 8,
   "id": "comparable-serial",
   "metadata": {},
   "outputs": [
    {
     "data": {
      "image/png": "[encoded data removed]",
      "text/plain": [
       "<Figure size 432x288 with 1 Axes>"
      ]
     },
     "metadata": {
      "needs_background": "light"
     },
     "output_type": "display_data"
    }
   ],
   "source": [
    "ax = trips_df.plot.scatter(x='County Name',y='2020',label='Holidays 2020',color='mediumblue')\n",
    "trips_df.plot.scatter(x='County Name',y='2021', label='Holidays 2021',color='red',rot=45,ax=ax)\n",
    "\n",
    "plt.xticks(np.arange(0,len(trips_df['County Name'])),rotation=45)\n",
    "plt.ylabel(\"(in Millions)\")\n",
    "plt.xlabel(\"NJ Counties\")\n",
    "plt.title(\"Changes in Mobility - Staying at Home\")\n",
    "plt.savefig(\"screenshots/NJHolidayTravel_scatter.png\")"
   ]
  },
  {
   "cell_type": "code",
   "execution_count": 10,
   "id": "progressive-kentucky",
   "metadata": {},
   "outputs": [
    {
     "data": {
      "image/png": "[encoded data removed]",
      "text/plain": [
       "<Figure size 432x288 with 1 Axes>"
      ]
     },
     "metadata": {
      "needs_background": "light"
     },
     "output_type": "display_data"
    }
   ],
   "source": [
    "ax2 = trips_df.plot(kind='line',x='County Name',y='2020',label='2020')\n",
    "trips_df.plot(kind='line',x='County Name',y='2021',label='2021', color='red',ax=ax2)\n",
    "\n",
    "plt.xticks(np.arange(0,len(trips_df['County Name']),),rotation=45)\n",
    "plt.ylabel(\"(in Millions)\")\n",
    "plt.xlabel(\"NJ Counties\")\n",
    "plt.title(\"Mobility Changes during the Nov-Dec Holiday travel period\")\n",
    "plt.savefig(\"screenshots/NJHolidayTravel_line.png\")"
   ]
  },
  {
   "cell_type": "code",
   "execution_count": null,
   "id": "curious-exercise",
   "metadata": {},
   "outputs": [],
   "source": [
    "trips_df.plot(x='County Name', y='2019')"
   ]
  },
  {
   "cell_type": "code",
   "execution_count": null,
   "id": "becoming-companion",
   "metadata": {},
   "outputs": [],
   "source": [
    "trips_df.plot(x='County Name', y='2020')"
   ]
  },
  {
   "cell_type": "code",
   "execution_count": null,
   "id": "original-bridge",
   "metadata": {},
   "outputs": [],
   "source": []
  }
 ],
 "metadata": {
  "kernelspec": {
   "display_name": "Python 3",
   "language": "python",
   "name": "python3"
  },
  "language_info": {
   "codemirror_mode": {
    "name": "ipython",
    "version": 3
   },
   "file_extension": ".py",
   "mimetype": "text/x-python",
   "name": "python",
   "nbconvert_exporter": "python",
   "pygments_lexer": "ipython3",
   "version": "3.8.5"
  }
 },
 "nbformat": 4,
 "nbformat_minor": 5
}
